{
 "cells": [
  {
   "cell_type": "code",
   "execution_count": 1,
   "id": "6a21f625-987c-4695-ba1f-334cdccd5781",
   "metadata": {},
   "outputs": [],
   "source": [
    "import numpy as np\n",
    "import matplotlib.pyplot as plt\n",
    "from sklearn.datasets import make_regression"
   ]
  },
  {
   "cell_type": "code",
   "execution_count": 25,
   "id": "24f3cd9e-2355-4886-8261-d7fcc0be3a34",
   "metadata": {},
   "outputs": [
    {
     "data": {
      "text/plain": [
       "<matplotlib.collections.PathCollection at 0x2a1507c6e70>"
      ]
     },
     "execution_count": 25,
     "metadata": {},
     "output_type": "execute_result"
    },
    {
     "data": {
      "image/png": "[encoded data removed]",
      "text/plain": [
       "<Figure size 640x480 with 1 Axes>"
      ]
     },
     "metadata": {},
     "output_type": "display_data"
    }
   ],
   "source": [
    "X, y = make_regression(n_samples=100,n_features=1,n_informative=1, n_targets=1,noise=50, random_state =4)\n",
    "plt.scatter(X,y)"
   ]
  },
  {
   "cell_type": "markdown",
   "id": "28b289cd-a40f-4bf9-9422-9fdf8c91472e",
   "metadata": {},
   "source": [
    "# Now lets start the linear regression "
   ]
  },
  {
   "cell_type": "code",
   "execution_count": 37,
   "id": "50f26bac-d669-4903-845e-9cc57c38c677",
   "metadata": {},
   "outputs": [],
   "source": [
    "class GDReg():\n",
    "    def __init__(self,learning_rate,epochs,m,b):\n",
    "        self.m = m\n",
    "        self.b = b\n",
    "        self.learning_rate = learning_rate\n",
    "        self.epochs = epochs\n",
    "        \n",
    "    def fit(self,X,y):\n",
    "        for i in range(self.epochs):\n",
    "            #Applying Gradient Descent on loss function to calculate \"m\" and \"b\"\n",
    "            loss_slope_b = -2*np.sum(y-self.m*X.ravel()-self.b)    #Calculating slope wrt \"b\"\n",
    "            self.b = self.b - self.learning_rate*loss_slope_b                      #(b new = b old - lr*slope_b)  Calculating b\n",
    "            loss_slope_m = -2*np.sum(y-self.m*X.ravel()-self.b)    #Calculating slope wrt \"m\"\n",
    "            self.m = self.m - self.learning_rate*loss_slope_m                      #(b new = b old - lr*slope_b)  Calculating m\n",
    "        return (self.m,self.b)"
   ]
  },
  {
   "cell_type": "code",
   "execution_count": 38,
   "id": "563615cd-f1ab-475a-ad1e-051bf120b2f1",
   "metadata": {},
   "outputs": [],
   "source": [
    "# Using the GDReg\n",
    "LR = GDReg(0.01,100,20,-10)"
   ]
  },
  {
   "cell_type": "code",
   "execution_count": 39,
   "id": "74955239-fc5e-44ce-ad39-66f45613e650",
   "metadata": {},
   "outputs": [
    {
     "ename": "NameError",
     "evalue": "name 'learning_rate' is not defined",
     "output_type": "error",
     "traceback": [
      "\u001b[1;31m---------------------------------------------------------------------------\u001b[0m",
      "\u001b[1;31mNameError\u001b[0m                                 Traceback (most recent call last)",
      "Cell \u001b[1;32mIn[39], line 1\u001b[0m\n\u001b[1;32m----> 1\u001b[0m \u001b[43mLR\u001b[49m\u001b[38;5;241;43m.\u001b[39;49m\u001b[43mfit\u001b[49m\u001b[43m(\u001b[49m\u001b[43mX\u001b[49m\u001b[43m,\u001b[49m\u001b[43my\u001b[49m\u001b[43m)\u001b[49m\n",
      "Cell \u001b[1;32mIn[37], line 12\u001b[0m, in \u001b[0;36mGDReg.fit\u001b[1;34m(self, X, y)\u001b[0m\n\u001b[0;32m      9\u001b[0m \u001b[38;5;28;01mfor\u001b[39;00m i \u001b[38;5;129;01min\u001b[39;00m \u001b[38;5;28mrange\u001b[39m(\u001b[38;5;28mself\u001b[39m\u001b[38;5;241m.\u001b[39mepochs):\n\u001b[0;32m     10\u001b[0m     \u001b[38;5;66;03m#Applying Gradient Descent on loss function to calculate \"m\" and \"b\"\u001b[39;00m\n\u001b[0;32m     11\u001b[0m     loss_slope_b \u001b[38;5;241m=\u001b[39m \u001b[38;5;241m-\u001b[39m\u001b[38;5;241m2\u001b[39m\u001b[38;5;241m*\u001b[39mnp\u001b[38;5;241m.\u001b[39msum(y\u001b[38;5;241m-\u001b[39m\u001b[38;5;28mself\u001b[39m\u001b[38;5;241m.\u001b[39mm\u001b[38;5;241m*\u001b[39mX\u001b[38;5;241m.\u001b[39mravel()\u001b[38;5;241m-\u001b[39m\u001b[38;5;28mself\u001b[39m\u001b[38;5;241m.\u001b[39mb)    \u001b[38;5;66;03m#Calculating slope wrt \"b\"\u001b[39;00m\n\u001b[1;32m---> 12\u001b[0m     \u001b[38;5;28mself\u001b[39m\u001b[38;5;241m.\u001b[39mb \u001b[38;5;241m=\u001b[39m \u001b[38;5;28mself\u001b[39m\u001b[38;5;241m.\u001b[39mb \u001b[38;5;241m-\u001b[39m \u001b[43mlearning_rate\u001b[49m\u001b[38;5;241m*\u001b[39mloss_slope_b                      \u001b[38;5;66;03m#(b new = b old - lr*slope_b)  Calculating b\u001b[39;00m\n\u001b[0;32m     13\u001b[0m     loss_slope_m \u001b[38;5;241m=\u001b[39m \u001b[38;5;241m-\u001b[39m\u001b[38;5;241m2\u001b[39m\u001b[38;5;241m*\u001b[39mnp\u001b[38;5;241m.\u001b[39msum(y\u001b[38;5;241m-\u001b[39m\u001b[38;5;28mself\u001b[39m\u001b[38;5;241m.\u001b[39mm\u001b[38;5;241m*\u001b[39mX\u001b[38;5;241m.\u001b[39mravel()\u001b[38;5;241m-\u001b[39m\u001b[38;5;28mself\u001b[39m\u001b[38;5;241m.\u001b[39mb)    \u001b[38;5;66;03m#Calculating slope wrt \"m\"\u001b[39;00m\n\u001b[0;32m     14\u001b[0m     \u001b[38;5;28mself\u001b[39m\u001b[38;5;241m.\u001b[39mm \u001b[38;5;241m=\u001b[39m \u001b[38;5;28mself\u001b[39m\u001b[38;5;241m.\u001b[39mm \u001b[38;5;241m-\u001b[39m learning_rate\u001b[38;5;241m*\u001b[39mloss_slope_m                      \u001b[38;5;66;03m#(b new = b old - lr*slope_b)  Calculating m\u001b[39;00m\n",
      "\u001b[1;31mNameError\u001b[0m: name 'learning_rate' is not defined"
     ]
    }
   ],
   "source": [
    "LR.fit(X,y)"
   ]
  },
  {
   "cell_type": "code",
   "execution_count": null,
   "id": "efbdbbca-3031-4f53-97f2-bb79c38b7c73",
   "metadata": {},
   "outputs": [],
   "source": []
  }
 ],
 "metadata": {
  "kernelspec": {
   "display_name": "Python 3 (ipykernel)",
   "language": "python",
   "name": "python3"
  },
  "language_info": {
   "codemirror_mode": {
    "name": "ipython",
    "version": 3
   },
   "file_extension": ".py",
   "mimetype": "text/x-python",
   "name": "python",
   "nbconvert_exporter": "python",
   "pygments_lexer": "ipython3",
   "version": "3.12.3"
  }
 },
 "nbformat": 4,
 "nbformat_minor": 5
}
